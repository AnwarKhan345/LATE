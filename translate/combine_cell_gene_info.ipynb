{
 "cells": [
  {
   "cell_type": "code",
   "execution_count": 2,
   "metadata": {},
   "outputs": [
    {
     "name": "stderr",
     "output_type": "stream",
     "text": [
      "/Users/rui/audrey/scImpute/translate/scimpute.py:2: UserWarning: \n",
      "This call to matplotlib.use() has no effect because the backend has already\n",
      "been chosen; matplotlib.use() must be called *before* pylab, matplotlib.pyplot,\n",
      "or matplotlib.backends is imported for the first time.\n",
      "\n",
      "The backend was *originally* set to 'module://ipykernel.pylab.backend_inline' by the following code:\n",
      "  File \"/Users/rui/anaconda3/envs/py35/lib/python3.5/runpy.py\", line 193, in _run_module_as_main\n",
      "    \"__main__\", mod_spec)\n",
      "  File \"/Users/rui/anaconda3/envs/py35/lib/python3.5/runpy.py\", line 85, in _run_code\n",
      "    exec(code, run_globals)\n",
      "  File \"/Users/rui/anaconda3/envs/py35/lib/python3.5/site-packages/ipykernel_launcher.py\", line 16, in <module>\n",
      "    app.launch_new_instance()\n",
      "  File \"/Users/rui/anaconda3/envs/py35/lib/python3.5/site-packages/traitlets/config/application.py\", line 658, in launch_instance\n",
      "    app.start()\n",
      "  File \"/Users/rui/anaconda3/envs/py35/lib/python3.5/site-packages/ipykernel/kernelapp.py\", line 486, in start\n",
      "    self.io_loop.start()\n",
      "  File \"/Users/rui/anaconda3/envs/py35/lib/python3.5/site-packages/tornado/platform/asyncio.py\", line 127, in start\n",
      "    self.asyncio_loop.run_forever()\n",
      "  File \"/Users/rui/anaconda3/envs/py35/lib/python3.5/asyncio/base_events.py\", line 421, in run_forever\n",
      "    self._run_once()\n",
      "  File \"/Users/rui/anaconda3/envs/py35/lib/python3.5/asyncio/base_events.py\", line 1425, in _run_once\n",
      "    handle._run()\n",
      "  File \"/Users/rui/anaconda3/envs/py35/lib/python3.5/asyncio/events.py\", line 127, in _run\n",
      "    self._callback(*self._args)\n",
      "  File \"/Users/rui/anaconda3/envs/py35/lib/python3.5/site-packages/tornado/platform/asyncio.py\", line 117, in _handle_events\n",
      "    handler_func(fileobj, events)\n",
      "  File \"/Users/rui/anaconda3/envs/py35/lib/python3.5/site-packages/tornado/stack_context.py\", line 276, in null_wrapper\n",
      "    return fn(*args, **kwargs)\n",
      "  File \"/Users/rui/anaconda3/envs/py35/lib/python3.5/site-packages/zmq/eventloop/zmqstream.py\", line 450, in _handle_events\n",
      "    self._handle_recv()\n",
      "  File \"/Users/rui/anaconda3/envs/py35/lib/python3.5/site-packages/zmq/eventloop/zmqstream.py\", line 480, in _handle_recv\n",
      "    self._run_callback(callback, msg)\n",
      "  File \"/Users/rui/anaconda3/envs/py35/lib/python3.5/site-packages/zmq/eventloop/zmqstream.py\", line 432, in _run_callback\n",
      "    callback(*args, **kwargs)\n",
      "  File \"/Users/rui/anaconda3/envs/py35/lib/python3.5/site-packages/tornado/stack_context.py\", line 276, in null_wrapper\n",
      "    return fn(*args, **kwargs)\n",
      "  File \"/Users/rui/anaconda3/envs/py35/lib/python3.5/site-packages/ipykernel/kernelbase.py\", line 283, in dispatcher\n",
      "    return self.dispatch_shell(stream, msg)\n",
      "  File \"/Users/rui/anaconda3/envs/py35/lib/python3.5/site-packages/ipykernel/kernelbase.py\", line 233, in dispatch_shell\n",
      "    handler(stream, idents, msg)\n",
      "  File \"/Users/rui/anaconda3/envs/py35/lib/python3.5/site-packages/ipykernel/kernelbase.py\", line 399, in execute_request\n",
      "    user_expressions, allow_stdin)\n",
      "  File \"/Users/rui/anaconda3/envs/py35/lib/python3.5/site-packages/ipykernel/ipkernel.py\", line 208, in do_execute\n",
      "    res = shell.run_cell(code, store_history=store_history, silent=silent)\n",
      "  File \"/Users/rui/anaconda3/envs/py35/lib/python3.5/site-packages/ipykernel/zmqshell.py\", line 537, in run_cell\n",
      "    return super(ZMQInteractiveShell, self).run_cell(*args, **kwargs)\n",
      "  File \"/Users/rui/anaconda3/envs/py35/lib/python3.5/site-packages/IPython/core/interactiveshell.py\", line 2666, in run_cell\n",
      "    self.events.trigger('post_run_cell', result)\n",
      "  File \"/Users/rui/anaconda3/envs/py35/lib/python3.5/site-packages/IPython/core/events.py\", line 88, in trigger\n",
      "    func(*args, **kwargs)\n",
      "  File \"/Users/rui/anaconda3/envs/py35/lib/python3.5/site-packages/ipykernel/pylab/backend_inline.py\", line 160, in configure_once\n",
      "    activate_matplotlib(backend)\n",
      "  File \"/Users/rui/anaconda3/envs/py35/lib/python3.5/site-packages/IPython/core/pylabtools.py\", line 311, in activate_matplotlib\n",
      "    matplotlib.pyplot.switch_backend(backend)\n",
      "  File \"/Users/rui/anaconda3/envs/py35/lib/python3.5/site-packages/matplotlib/pyplot.py\", line 231, in switch_backend\n",
      "    matplotlib.use(newbackend, warn=False, force=True)\n",
      "  File \"/Users/rui/anaconda3/envs/py35/lib/python3.5/site-packages/matplotlib/__init__.py\", line 1410, in use\n",
      "    reload(sys.modules['matplotlib.backends'])\n",
      "  File \"/Users/rui/anaconda3/envs/py35/lib/python3.5/importlib/__init__.py\", line 166, in reload\n",
      "    _bootstrap._exec(spec, module)\n",
      "  File \"/Users/rui/anaconda3/envs/py35/lib/python3.5/site-packages/matplotlib/backends/__init__.py\", line 16, in <module>\n",
      "    line for line in traceback.format_stack()\n",
      "\n",
      "\n",
      "  matplotlib.use('Agg')  # for plotting without GUI\n"
     ]
    },
    {
     "ename": "ImportError",
     "evalue": "No module named 'tensorflow'",
     "output_type": "error",
     "traceback": [
      "\u001b[0;31m---------------------------------------------------------------------------\u001b[0m",
      "\u001b[0;31mImportError\u001b[0m                               Traceback (most recent call last)",
      "\u001b[0;32m<ipython-input-2-09c6f66b4c84>\u001b[0m in \u001b[0;36m<module>\u001b[0;34m()\u001b[0m\n\u001b[1;32m     10\u001b[0m \u001b[0;32mimport\u001b[0m \u001b[0mmatplotlib\u001b[0m\u001b[0;34m.\u001b[0m\u001b[0mpyplot\u001b[0m \u001b[0;32mas\u001b[0m \u001b[0mplt\u001b[0m\u001b[0;34m\u001b[0m\u001b[0m\n\u001b[1;32m     11\u001b[0m \u001b[0;32mimport\u001b[0m \u001b[0mimportlib\u001b[0m\u001b[0;34m\u001b[0m\u001b[0m\n\u001b[0;32m---> 12\u001b[0;31m \u001b[0;32mimport\u001b[0m \u001b[0mscimpute\u001b[0m\u001b[0;34m\u001b[0m\u001b[0m\n\u001b[0m\u001b[1;32m     13\u001b[0m \u001b[0;34m\u001b[0m\u001b[0m\n\u001b[1;32m     14\u001b[0m \u001b[0mhome\u001b[0m \u001b[0;34m=\u001b[0m \u001b[0mos\u001b[0m\u001b[0;34m.\u001b[0m\u001b[0menviron\u001b[0m\u001b[0;34m[\u001b[0m\u001b[0;34m'HOME'\u001b[0m\u001b[0;34m]\u001b[0m\u001b[0;34m\u001b[0m\u001b[0m\n",
      "\u001b[0;32m~/audrey/scImpute/translate/scimpute.py\u001b[0m in \u001b[0;36m<module>\u001b[0;34m()\u001b[0m\n\u001b[1;32m      8\u001b[0m \u001b[0;32mimport\u001b[0m \u001b[0mnumpy\u001b[0m \u001b[0;32mas\u001b[0m \u001b[0mnp\u001b[0m\u001b[0;34m\u001b[0m\u001b[0m\n\u001b[1;32m      9\u001b[0m \u001b[0;32mfrom\u001b[0m \u001b[0mscipy\u001b[0m\u001b[0;34m.\u001b[0m\u001b[0mstats\u001b[0m\u001b[0;34m.\u001b[0m\u001b[0mstats\u001b[0m \u001b[0;32mimport\u001b[0m \u001b[0mpearsonr\u001b[0m\u001b[0;34m\u001b[0m\u001b[0m\n\u001b[0;32m---> 10\u001b[0;31m \u001b[0;32mimport\u001b[0m \u001b[0mtensorflow\u001b[0m \u001b[0;32mas\u001b[0m \u001b[0mtf\u001b[0m\u001b[0;34m\u001b[0m\u001b[0m\n\u001b[0m\u001b[1;32m     11\u001b[0m \u001b[0;32mimport\u001b[0m \u001b[0mcollections\u001b[0m\u001b[0;34m\u001b[0m\u001b[0m\n\u001b[1;32m     12\u001b[0m \u001b[0;32mimport\u001b[0m \u001b[0mscipy\u001b[0m\u001b[0;34m.\u001b[0m\u001b[0msparse\u001b[0m \u001b[0;32mas\u001b[0m \u001b[0msp_sparse\u001b[0m\u001b[0;34m\u001b[0m\u001b[0m\n",
      "\u001b[0;31mImportError\u001b[0m: No module named 'tensorflow'"
     ]
    }
   ],
   "source": [
    "#!/usr/bin/python\n",
    "import matplotlib\n",
    "import os\n",
    "import sys\n",
    "import time\n",
    "import math\n",
    "import numpy as np\n",
    "import pandas as pd\n",
    "from scipy.stats.stats import pearsonr\n",
    "import matplotlib.pyplot as plt\n",
    "import importlib\n",
    "import scimpute\n",
    "\n",
    "home = os.environ['HOME']"
   ]
  },
  {
   "cell_type": "code",
   "execution_count": null,
   "metadata": {},
   "outputs": [],
   "source": [
    "# READ CMD\n",
    "print('''\n",
    "usage: python -u combine_cell_gene_info.py gene_info_imputation cell_info_imputation input_data\n",
    "select the best prediction for each gene\n",
    "based on Gene_MSE(Y)/Gene_MSE(X)\n",
    "''')"
   ]
  },
  {
   "cell_type": "code",
   "execution_count": 5,
   "metadata": {},
   "outputs": [],
   "source": [
    "def gene_mse_nz_from_df(Y, X):\n",
    "    '''\n",
    "    get gene_mse from gene_expression_df (cell_row, with cell_id as index)\n",
    "    X: input/ground-truth\n",
    "    Y: imputation\n",
    "    return a [gene, 1] pd.series with index of gene_ids \n",
    "    '''\n",
    "    mse_df = pd.DataFrame(columns=['mse'])\n",
    "    for i in range(X.shape[1]):\n",
    "        mse_ = scimpute.mse_omega(Y.iloc[:, i], X.iloc[:, i])\n",
    "        gene_name = X.columns[i]\n",
    "        mse_df.loc[X.columns[i], 'mse']= mse_\n",
    "    mse_df = mse_df.iloc[:, 0]\n",
    "    print(mse_df.head(), '\\n', mse_df.shape)\n",
    "    return mse_df"
   ]
  },
  {
   "cell_type": "code",
   "execution_count": 6,
   "metadata": {},
   "outputs": [],
   "source": [
    "def combine_gene_imputation_of_two_df(Y1, Y2, metric1, metric2, mode='smaller'):\n",
    "    '''\n",
    "    Y1, Y2 two imputation results (cell_row, df)\n",
    "    Metric1, Metric2 ([num-gene, 1], df, same metircs for Y1 and Y2)\n",
    "    select rows of Y1, Y2 into Y_combined\n",
    "    mode: smaller/larger (being selected)\n",
    "    Output in index/column order of Y1\n",
    "    '''\n",
    "    if mode == 'smaller':\n",
    "        idx_better = metric1 < metric2\n",
    "    elif mode == 'larger':\n",
    "        idx_better = metric1> metric2\n",
    "    else:\n",
    "        raise Exception ('mode err')\n",
    "#     try:\n",
    "#         idx_better = idx_better.iloc[:, 0]  # df to series, important\n",
    "#     except 'IndexingError':\n",
    "#         pass\n",
    "#     print('yg_better boolean series:\\n', idx_better.head())\n",
    "\n",
    "    Y_better_lst = [Y1.transpose()[idx_better], \n",
    "                      Y2.transpose()[~idx_better]] # list of frames\n",
    "    Y_better = pd.concat(Y_better_lst)\n",
    "    Y_better = Y_better.transpose()  # tr back\n",
    "    Y_better = Y_better.loc[Y1.index, Y1.columns]  # get Y1 original order, just in case\n",
    "\n",
    "#     print('Y1:\\n', Y1.iloc[:5, :3])\n",
    "#     print('Y2:\\n', Y2.iloc[:5, :3])\n",
    "#     print(\"metrics1:\\n\", metric1.iloc[:5])\n",
    "#     print(\"metrics2:\\n\", metric2.iloc[:5])\n",
    "#     print('Y_combined:\\n', Y_better.iloc[:5, :3])\n",
    "    \n",
    "    return Y_better"
   ]
  },
  {
   "cell_type": "markdown",
   "metadata": {},
   "source": [
    "# todo:\n",
    "updated 05/16/2018: formatting"
   ]
  },
  {
   "cell_type": "code",
   "execution_count": 7,
   "metadata": {},
   "outputs": [],
   "source": [
    "# arguments\n",
    "sys.argv = ['combine_cell_gene_info.py',\n",
    "            '../late5L_10k_nz10/step2/imputation.step2.hd5',  # gene_info imputation\n",
    "           '../late5L_10k_nz10_cellInfo/step2/imputation.step2.hd5', # cell_info imputation\n",
    "           home+'/data/cell_row/pbmc.g949_c10k.hd5']  # input"
   ]
  },
  {
   "cell_type": "code",
   "execution_count": 8,
   "metadata": {},
   "outputs": [
    {
     "name": "stdout",
     "output_type": "stream",
     "text": [
      "> READ DATA..\n",
      "reading ../late5L_10k_nz10/step2/imputation.step2.hd5 as cell_row data frame\n",
      "reading:  ../late5L_10k_nz10/step2/imputation.step2.hd5\n",
      "(10000, 949)\n",
      "                  ENSG00000187608  ENSG00000175756\n",
      "Barcode                                           \n",
      "GTAATATGGTGTTG-1         0.328230         0.344462\n",
      "GAGCGCTGCTGACA-3         0.323499         0.329429\n",
      "AAGGTCTGATTGGC-4         0.324200         0.310968\n",
      "shape is (10000, 949)\n",
      "nz_rate is 1.0\n",
      "nz_count is 9489716\n",
      "\n",
      "reading took 0.7 seconds\n",
      "reading ../late5L_10k_nz10_cellInfo/step2/imputation.step2.hd5 as cell_row data frame\n",
      "reading:  ../late5L_10k_nz10_cellInfo/step2/imputation.step2.hd5\n",
      "(949, 10000)\n",
      "Barcode          GTAATATGGTGTTG-1  GAGCGCTGCTGACA-3\n",
      "ENSG00000187608          0.297540          0.327166\n",
      "ENSG00000175756          0.306383          0.330167\n",
      "ENSG00000242485          0.296451          0.320554\n",
      "shape is (10000, 949)\n",
      "nz_rate is 1.0\n",
      "nz_count is 9489993\n",
      "\n",
      "reading took 0.4 seconds\n",
      "reading /mnt/lfs2/rui/data/cell_row/pbmc.g949_c10k.hd5 as cell_row data frame\n",
      "reading:  /mnt/lfs2/rui/data/cell_row/pbmc.g949_c10k.hd5\n",
      "(10000, 949)\n",
      "                  ENSG00000187608  ENSG00000175756\n",
      "Barcode                                           \n",
      "GTAATATGGTGTTG-1              0.0              0.0\n",
      "GAGCGCTGCTGACA-3              0.0              1.0\n",
      "AAGGTCTGATTGGC-4              0.0              0.0\n",
      "shape is (10000, 949)\n",
      "nz_rate is 0.333\n",
      "nz_count is 3155953\n",
      "\n",
      "reading took 0.5 seconds\n",
      "data formatting:  log\n",
      "aligning index to X\n",
      "\n",
      " DF in RAM:\n",
      "Yg.shape (10000, 949) \n",
      "                   ENSG00000187608  ENSG00000175756\n",
      "Barcode                                           \n",
      "GTAATATGGTGTTG-1         0.328230         0.344462\n",
      "GAGCGCTGCTGACA-3         0.323499         0.329429\n",
      "Yc.shape (10000, 949) \n",
      "                   ENSG00000187608  ENSG00000175756\n",
      "Barcode                                           \n",
      "GTAATATGGTGTTG-1         0.297540         0.306383\n",
      "GAGCGCTGCTGACA-3         0.327166         0.330167\n",
      "X.shape (10000, 949) \n",
      "                   ENSG00000187608  ENSG00000175756\n",
      "Barcode                                           \n",
      "GTAATATGGTGTTG-1              0.0          0.00000\n",
      "GAGCGCTGCTGACA-3              0.0          0.30103\n"
     ]
    }
   ],
   "source": [
    "# READ DATA  (into cell_row, for consistancy with imputation.hd5)\n",
    "file_gene = sys.argv[1]\n",
    "file_cell = sys.argv[2]\n",
    "file_input = sys.argv[3]\n",
    "\n",
    "print(\"> READ DATA..\")  # todo: add support for h5 sparse\n",
    "Yg = scimpute.read_data_into_cell_row(file_gene, 'cell_row')\n",
    "Yc = scimpute.read_data_into_cell_row(file_cell, 'gene_row')\n",
    "\n",
    "X = scimpute.read_data_into_cell_row(file_input, 'cell_row')\n",
    "X = scimpute.df_transformation(X, transformation='log')\n",
    "\n",
    "print('aligning index to X')\n",
    "Yg = Yg.reindex(X.index)\n",
    "Yc = Yc.reindex(X.index)\n",
    "\n",
    "# # TEST MODE OR NOT\n",
    "# m = 100\n",
    "# n = 10\n",
    "# print('in test mode')\n",
    "# Yc = Yc.iloc[0:m, 0:n]\n",
    "# Yg = Yg.iloc[0:m, 0:n]\n",
    "# X = X.iloc[0:m, 0:n]\n",
    "\n",
    "# INPUT SUMMART\n",
    "print(\"\\n\", 'DF in RAM:')\n",
    "print('Yg.shape', Yg.shape, '\\n', Yg.iloc[0:2, 0:2])\n",
    "print('Yc.shape', Yc.shape, '\\n', Yc.iloc[0:2, 0:2])\n",
    "print('X.shape', X.shape, '\\n', X.iloc[0:2, 0:2])"
   ]
  },
  {
   "cell_type": "markdown",
   "metadata": {},
   "source": [
    "## COMBINE IMPUTATION"
   ]
  },
  {
   "cell_type": "code",
   "execution_count": 9,
   "metadata": {},
   "outputs": [
    {
     "name": "stdout",
     "output_type": "stream",
     "text": [
      "calculating mse_nz gene-info (Yg vs X):\n",
      "ENSG00000187608     0.00237454\n",
      "ENSG00000175756     0.00139513\n",
      "ENSG00000242485     0.00102304\n",
      "ENSG00000160075     0.00117013\n",
      "ENSG00000162585    0.000951371\n",
      "Name: mse, dtype: object \n",
      " (949,)\n",
      "0.005919465436872909\n",
      "calculating mse_nz cell-info (Yc vs X):\n",
      "ENSG00000187608    0.00233416\n",
      "ENSG00000175756    0.00153116\n",
      "ENSG00000242485    0.00106577\n",
      "ENSG00000160075    0.00125735\n",
      "ENSG00000162585    0.00107813\n",
      "Name: mse, dtype: object \n",
      " (949,)\n",
      "0.006852611939237763\n",
      "combining by smaller mse\n",
      "savingimputation.combined_by_mse.hd5 took 0.3 seconds\n",
      "calculating mse_nz combined (Y_mse_combined vs X):\n",
      "ENSG00000187608     0.00233416\n",
      "ENSG00000175756     0.00139513\n",
      "ENSG00000242485     0.00102304\n",
      "ENSG00000160075     0.00117013\n",
      "ENSG00000162585    0.000951371\n",
      "Name: mse, dtype: object \n",
      " (949,)\n",
      "mse_nz between Y_combined and X: 0.005912815375173008\n"
     ]
    }
   ],
   "source": [
    "# COMBINE BY SMALLER MSE: cell_row assumed for DFs(Y and X)\n",
    "\n",
    "# calculate mse\n",
    "print('calculating mse_nz gene-info (Yg vs X):')\n",
    "mse_Yg = gene_mse_nz_from_df(Yg, X)\n",
    "print(mse_Yg.mean())\n",
    "\n",
    "print('calculating mse_nz cell-info (Yc vs X):')\n",
    "mse_Yc = gene_mse_nz_from_df(Yc, X)\n",
    "print(mse_Yc.mean())\n",
    "\n",
    "# combine by smaller mse\n",
    "print('combining by smaller mse')\n",
    "Y_mse_combined = combine_gene_imputation_of_two_df(Yg, Yc, mse_Yg, mse_Yc, mode='smaller')\n",
    "scimpute.save_hd5(Y_mse_combined, 'imputation.combined_by_mse.hd5')\n",
    "\n",
    "# calculate mse\n",
    "print('calculating mse_nz combined (Y_mse_combined vs X):')\n",
    "mse_Y_combined = gene_mse_nz_from_df(Y_mse_combined, X)\n",
    "print('mse_nz between Y_combined and X:', mse_Y_combined.mean())"
   ]
  },
  {
   "cell_type": "code",
   "execution_count": 10,
   "metadata": {},
   "outputs": [
    {
     "name": "stdout",
     "output_type": "stream",
     "text": [
      "calculating STD for Yg, Yc, and X\n",
      "calculating mse_nz STD_combined vs X:\n",
      "ENSG00000187608    0.00233416\n",
      "ENSG00000175756    0.00153116\n",
      "ENSG00000242485    0.00106577\n",
      "ENSG00000160075    0.00125735\n",
      "ENSG00000162585    0.00107813\n",
      "Name: mse, dtype: object \n",
      " (949,)\n",
      "mse_nz between Y_combined and X: 0.006331757149961048\n"
     ]
    }
   ],
   "source": [
    "# COMBINE BY LARGER GENE-STD: cell_row assumed for DFs(Y and X)\n",
    "\n",
    "# calculate STD of genes in Y and X\n",
    "print('calculating STD for Yg, Yc, and X')\n",
    "x_std, yg_std = scimpute.nz_std(X, Yg)\n",
    "x_std, yc_std = scimpute.nz_std(X, Yc)\n",
    "\n",
    "# combine by smaller mse\n",
    "Y_std_combined = combine_gene_imputation_of_two_df(Yg, Yc, yg_std, yc_std, mode='larger')\n",
    "# scimpute.save_hd5(Y_std_combined, 'imputation.combined_by_sd.hd5') # not useful, not saved\n",
    "\n",
    "# calculate mse\n",
    "print('calculating mse_nz STD_combined vs X:')\n",
    "mse_Y_combined2 = gene_mse_nz_from_df(Y_std_combined, X)\n",
    "print('mse_nz between Y_combined and X:', mse_Y_combined2.mean())"
   ]
  },
  {
   "cell_type": "markdown",
   "metadata": {},
   "source": [
    "## HISTOGRAMS"
   ]
  },
  {
   "cell_type": "code",
   "execution_count": 11,
   "metadata": {},
   "outputs": [
    {
     "name": "stdout",
     "output_type": "stream",
     "text": [
      "calculating STD for Y and X\n",
      "std_df.csv saved\n"
     ]
    }
   ],
   "source": [
    "# STD of genes in Y and X\n",
    "print('calculating STD for Y and X')\n",
    "x_std, yg_std = scimpute.nz_std(X, Yg)\n",
    "x_std, yc_std = scimpute.nz_std(X, Yc)\n",
    "\n",
    "std_df = pd.DataFrame(data=list(zip(x_std, yg_std[x_std.index], yc_std[x_std.index],\n",
    "                                    yg_std/x_std, yc_std/x_std, yg_std/yc_std)),\n",
    "                      index=x_std.index,\n",
    "                      columns=['X_std', 'Yg_std', 'Yc_std', \n",
    "                               'Yg_X_ratio', 'Yc_X_ratio', 'Yg_Yc_ratio'])\n",
    "std_df.head()\n",
    "std_df.to_csv('std_df.csv')\n",
    "print('std_df.csv saved')"
   ]
  },
  {
   "cell_type": "code",
   "execution_count": 19,
   "metadata": {},
   "outputs": [
    {
     "data": {
      "image/png": "[encoded data removed]",
      "text/plain": [
       "<Figure size 432x288 with 1 Axes>"
      ]
     },
     "metadata": {},
     "output_type": "display_data"
    },
    {
     "data": {
      "image/png": "[encoded data removed]",
      "text/plain": [
       "<Figure size 432x288 with 1 Axes>"
      ]
     },
     "metadata": {},
     "output_type": "display_data"
    }
   ],
   "source": [
    "# HIST OF STD\n",
    "fig, ax = plt.subplots()\n",
    "\n",
    "ax.hist(std_df.loc[:, 'Yg_X_ratio'], bins=100, label='SD(Yg)/SD(X)', density=True, alpha=0.7)\n",
    "ax.hist(std_df.loc[:, 'Yc_X_ratio'], bins=100, label='SD(Yc)/SD(X)', density=True, alpha=0.7)\n",
    "ax.legend()\n",
    "fig.savefig('hist_std_ratio.png', bbox_inches='tight')\n",
    "plt.show()\n",
    "plt.close()\n",
    "\n",
    "\n",
    "fig, ax = plt.subplots()\n",
    "ax.hist(std_df.loc[:, 'Yg_std'], bins=100, label='SD(Yg)', density=True, alpha=0.7)\n",
    "ax.hist(std_df.loc[:, 'Yc_std'], bins=100, label='SD(Yc)', density=True, alpha=0.7)\n",
    "ax.hist(std_df.loc[:, 'X_std'], bins=100, label='SD(X)', density=True, alpha=0.7)\n",
    "ax.legend()\n",
    "plt.show()\n",
    "fig.savefig('hist_std.png', bbox_inches='tight')\n",
    "plt.close()"
   ]
  },
  {
   "cell_type": "code",
   "execution_count": 22,
   "metadata": {},
   "outputs": [
    {
     "data": {
      "image/png": "[encoded data removed]",
      "text/plain": [
       "<Figure size 432x288 with 1 Axes>"
      ]
     },
     "metadata": {},
     "output_type": "display_data"
    }
   ],
   "source": [
    "# HIST OF MSE\n",
    "fig, ax = plt.subplots()\n",
    "ax.hist(mse_Yg.values.astype('float'), bins=100, label='GENE_MSE_NZ(Yg vs X)', density=True, alpha=0.7)\n",
    "ax.hist(mse_Yc.values.astype('float'), bins=100, label='GENE_MSE_NZ(Yc vs X)', density=True, alpha=0.7)\n",
    "ax.legend()\n",
    "plt.show()\n",
    "fig.savefig('hist_gene_mse.png', bbox_inches='tight')\n",
    "plt.close()"
   ]
  },
  {
   "cell_type": "markdown",
   "metadata": {},
   "source": [
    "## Plot top genes diff in gene-info and cell-info imputation"
   ]
  },
  {
   "cell_type": "code",
   "execution_count": 14,
   "metadata": {},
   "outputs": [
    {
     "name": "stdout",
     "output_type": "stream",
     "text": [
      "## sort by Yg_Yc_ratio (Yg better):\n",
      "                     X_std    Yg_std    Yc_std  Yg_X_ratio  Yc_X_ratio  \\\n",
      "ENSG00000254709  0.112234  0.179613  0.027981    1.600347    0.249309   \n",
      "ENSG00000105369  0.165778  0.100223  0.036774    0.604563    0.221830   \n",
      "ENSG00000090382  0.189197  0.143364  0.066769    0.757748    0.352910   \n",
      "ENSG00000143546  0.150768  0.110043  0.054293    0.729882    0.360111   \n",
      "ENSG00000172116  0.168268  0.068544  0.033827    0.407352    0.201033   \n",
      "ENSG00000026025  0.275544  0.086288  0.043738    0.313154    0.158734   \n",
      "ENSG00000227507  0.380869  0.196391  0.106487    0.515638    0.279590   \n",
      "ENSG00000007312  0.162493  0.073230  0.039895    0.450663    0.245518   \n",
      "ENSG00000132965  0.139339  0.045886  0.026509    0.329311    0.190249   \n",
      "ENSG00000101439  0.239499  0.167997  0.097113    0.701453    0.405484   \n",
      "\n",
      "                 Yg_Yc_ratio  \n",
      "ENSG00000254709     6.419125  \n",
      "ENSG00000105369     2.725343  \n",
      "ENSG00000090382     2.147146  \n",
      "ENSG00000143546     2.026829  \n",
      "ENSG00000172116     2.026292  \n",
      "ENSG00000026025     1.972818  \n",
      "ENSG00000227507     1.844265  \n",
      "ENSG00000007312     1.835562  \n",
      "ENSG00000132965     1.730950  \n",
      "ENSG00000101439     1.729913  \n",
      "## sort by Yg_Yc_ratio (Yc_better):\n",
      "                     X_std    Yg_std    Yc_std  Yg_X_ratio  Yc_X_ratio  \\\n",
      "ENSG00000187145  0.131864  0.010502  0.026748    0.079644    0.202847   \n",
      "ENSG00000136950  0.114793  0.012396  0.030016    0.107989    0.261479   \n",
      "ENSG00000185187  0.136650  0.011564  0.027817    0.084623    0.203568   \n",
      "ENSG00000167085  0.126324  0.011302  0.027102    0.089471    0.214540   \n",
      "ENSG00000172428  0.121986  0.012181  0.028452    0.099854    0.233236   \n",
      "ENSG00000130706  0.117099  0.011803  0.026853    0.100794    0.229319   \n",
      "ENSG00000183726  0.131023  0.012175  0.027492    0.092924    0.209826   \n",
      "ENSG00000120913  0.112121  0.012446  0.027727    0.111007    0.247291   \n",
      "ENSG00000116171  0.126145  0.012962  0.028737    0.102754    0.227810   \n",
      "ENSG00000187051  0.135246  0.013849  0.030642    0.102400    0.226567   \n",
      "\n",
      "                 Yg_Yc_ratio  \n",
      "ENSG00000187145     0.392632  \n",
      "ENSG00000136950     0.412992  \n",
      "ENSG00000185187     0.415699  \n",
      "ENSG00000167085     0.417034  \n",
      "ENSG00000172428     0.428124  \n",
      "ENSG00000130706     0.439537  \n",
      "ENSG00000183726     0.442863  \n",
      "ENSG00000120913     0.448893  \n",
      "ENSG00000116171     0.451049  \n",
      "ENSG00000187051     0.451962  \n"
     ]
    }
   ],
   "source": [
    "# TOP GENES DIFFERENT IN Yc and Yg\n",
    "num_genes = 10\n",
    "_ = std_df.sort_values(by='Yg_Yc_ratio', ascending=False).head(num_genes)\n",
    "print('## sort by Yg_Yc_ratio (Yg better):\\n', _)\n",
    "Yg_better_genes = _.index\n",
    "\n",
    "_ = std_df.sort_values(by='Yg_Yc_ratio', ascending=True).head(num_genes)\n",
    "print('## sort by Yg_Yc_ratio (Yc_better):\\n', _)\n",
    "Yc_better_genes = _.index"
   ]
  },
  {
   "cell_type": "code",
   "execution_count": 15,
   "metadata": {},
   "outputs": [
    {
     "name": "stdout",
     "output_type": "stream",
     "text": [
      "ENSG00000254709\n",
      "ENSG00000105369\n",
      "ENSG00000090382\n",
      "ENSG00000143546\n",
      "ENSG00000172116\n",
      "ENSG00000026025\n",
      "ENSG00000227507\n",
      "ENSG00000007312\n",
      "ENSG00000132965\n",
      "ENSG00000101439\n"
     ]
    }
   ],
   "source": [
    "## PLT TOP GENES\n",
    "gene_plt_dir = 'gene_feature_better_genes'\n",
    "\n",
    "for gene in Yg_better_genes:\n",
    "    print(gene)\n",
    "    scimpute.scatterplot2(X.loc[:, gene],  Yg.loc[:,gene],\n",
    "                          range='same',\n",
    "                          title = gene + ' (Gene-feature))',\n",
    "                          xlabel='Ground Truth, SD(Y)/SD(X):' + str(round(std_df.loc[gene,'Yg_X_ratio'], 3)),\n",
    "                          ylabel='Imputation (Gene-feature)',\n",
    "                          dir=gene_plt_dir)\n",
    "    scimpute.scatterplot2(X.loc[:, gene],  Yc.loc[:,gene],\n",
    "                          range='same',\n",
    "                          title = gene + ' (Cell-feature))',\n",
    "                          xlabel='Ground Truth, SD(Y)/SD(X):' + str(round(std_df.loc[gene,'Yc_X_ratio'], 3)),\n",
    "                          ylabel='Imputation (Cell-feature)',\n",
    "                          dir=gene_plt_dir)"
   ]
  },
  {
   "cell_type": "code",
   "execution_count": 14,
   "metadata": {},
   "outputs": [
    {
     "name": "stdout",
     "output_type": "stream",
     "text": [
      "ENSG00000187145\n",
      "ENSG00000136950\n",
      "ENSG00000185187\n",
      "ENSG00000167085\n",
      "ENSG00000172428\n",
      "ENSG00000130706\n",
      "ENSG00000183726\n",
      "ENSG00000120913\n",
      "ENSG00000116171\n",
      "ENSG00000187051\n"
     ]
    }
   ],
   "source": [
    "## PLT TOP GENES\n",
    "gene_plt_dir = 'cell_feature_better_genes'\n",
    "\n",
    "for gene in Yc_better_genes:\n",
    "    print(gene)\n",
    "    scimpute.scatterplot2(X.loc[:, gene],  Yg.loc[:,gene],\n",
    "                          range='same',\n",
    "                          title = gene + ' (Gene-feature))',\n",
    "                          xlabel='Ground Truth, SD(Y)/SD(X):' + str(round(std_df.loc[gene,'Yg_X_ratio'], 3)),\n",
    "                          ylabel='Imputation (Gene-feature)',\n",
    "                          dir=gene_plt_dir)\n",
    "    scimpute.scatterplot2(X.loc[:, gene],  Yc.loc[:,gene],\n",
    "                          range='same',\n",
    "                          title = gene + ' (Cell-feature))',\n",
    "                          xlabel='Ground Truth, SD(Y)/SD(X):' + str(round(std_df.loc[gene,'Yc_X_ratio'], 3)),\n",
    "                          ylabel='Imputation (Cell-feature)',\n",
    "                          dir=gene_plt_dir)"
   ]
  },
  {
   "cell_type": "code",
   "execution_count": 15,
   "metadata": {},
   "outputs": [],
   "source": [
    "!sh result_analysis.sh"
   ]
  }
 ],
 "metadata": {
  "kernelspec": {
   "display_name": "py35",
   "language": "python",
   "name": "py35"
  },
  "language_info": {
   "codemirror_mode": {
    "name": "ipython",
    "version": 3
   },
   "file_extension": ".py",
   "mimetype": "text/x-python",
   "name": "python",
   "nbconvert_exporter": "python",
   "pygments_lexer": "ipython3",
   "version": "3.5.5"
  }
 },
 "nbformat": 4,
 "nbformat_minor": 1
}
