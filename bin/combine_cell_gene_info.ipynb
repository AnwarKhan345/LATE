{
 "cells": [
  {
   "cell_type": "code",
   "execution_count": 29,
   "metadata": {},
   "outputs": [
    {
     "name": "stdout",
     "output_type": "stream",
     "text": [
      "\n",
      "usage: python -u combine_cell_gene_info.py cell_info_imputation gene_info_imputation input_data\n",
      "select the best prediction for each gene\n",
      "based on STD(Y)/STD(X)\n",
      "\n"
     ]
    }
   ],
   "source": [
    "#!/usr/bin/python\n",
    "import matplotlib\n",
    "import os\n",
    "import sys\n",
    "import time\n",
    "import math\n",
    "import numpy as np\n",
    "import pandas as pd\n",
    "from scipy.stats.stats import pearsonr\n",
    "import matplotlib.pyplot as plt\n",
    "import importlib\n",
    "import scimpute\n",
    "\n",
    "# READ CMD\n",
    "print('''\n",
    "usage: python -u combine_cell_gene_info.py cell_info_imputation gene_info_imputation input_data\n",
    "select the best prediction for each gene\n",
    "based on STD(Y)/STD(X)\n",
    "''')"
   ]
  },
  {
   "cell_type": "markdown",
   "metadata": {},
   "source": [
    "# todo:\n",
    "\n",
    " - [ ] mse of genes \n",
    " - [ ] "
   ]
  },
  {
   "cell_type": "code",
   "execution_count": 2,
   "metadata": {},
   "outputs": [],
   "source": [
    "# arguments\n",
    "sys.argv = ['combine_cell_gene_info.py',\n",
    "            '../late_3L/step2/imputation.step2.hd5',\n",
    "           '../late_3L_transpose2-2/step2/imputation.step2.hd5', \n",
    "           '/mnt/lfs2/rui/imputation/data/10x_human_pbmc_68k/filtering/msk/10x_human_pbmc_68k.nz40.msk90.hd5']"
   ]
  },
  {
   "cell_type": "code",
   "execution_count": 3,
   "metadata": {},
   "outputs": [
    {
     "name": "stdout",
     "output_type": "stream",
     "text": [
      "> READ DATA..\n",
      "reading ../late_3L/step2/imputation.step2.hd5 as cell_row data frame\n",
      "reading:  ../late_3L/step2/imputation.step2.hd5\n",
      "(21065, 949)\n",
      "                  ENSG00000187608  ENSG00000175756\n",
      "AAACATACTTCTAC-1         0.421346         0.399849\n",
      "AAACATTGGTTCAG-1         0.284391         0.292878\n",
      "AAACCGTGACAGTC-1         0.298386         0.335737\n",
      "shape is (21065, 949)\n",
      "nz_rate is 1.0\n",
      "nz_count is 19990607\n",
      "\n",
      "reading took 0.9 seconds\n",
      "reading ../late_3L_transpose2-2/step2/imputation.step2.hd5 as cell_row data frame\n",
      "reading:  ../late_3L_transpose2-2/step2/imputation.step2.hd5\n",
      "(949, 21065)\n",
      "                 AAACATACTTCTAC-1  AAACATTGGTTCAG-1\n",
      "ENSG00000187608          0.397874          0.338926\n",
      "ENSG00000175756          0.381677          0.323209\n",
      "ENSG00000242485          0.365012          0.313537\n",
      "shape is (21065, 949)\n",
      "nz_rate is 1.0\n",
      "nz_count is 19990685\n",
      "\n",
      "reading took 0.8 seconds\n",
      "reading /mnt/lfs2/rui/imputation/data/10x_human_pbmc_68k/filtering/msk/10x_human_pbmc_68k.nz40.msk90.hd5 as cell_row data frame\n",
      "reading:  /mnt/lfs2/rui/imputation/data/10x_human_pbmc_68k/filtering/msk/10x_human_pbmc_68k.nz40.msk90.hd5\n",
      "(949, 21065)\n",
      "                 AAACATACTTCTAC-1  AAACATTGGTTCAG-1\n",
      "ENSG00000187608               0.0               0.0\n",
      "ENSG00000175756               0.0               0.0\n",
      "ENSG00000242485               0.0               0.0\n",
      "shape is (21065, 949)\n",
      "nz_rate is 0.1\n",
      "nz_count is 2001933\n",
      "\n",
      "reading took 0.9 seconds\n",
      "data formatting:  log\n",
      "Yg.shape (21065, 949)                   ENSG00000187608  ENSG00000175756  ENSG00000242485\n",
      "AAACATACTTCTAC-1         0.421346         0.399849         0.320015\n",
      "AAACATTGGTTCAG-1         0.284391         0.292878         0.312045\n",
      "AAACCGTGACAGTC-1         0.298386         0.335737         0.311562\n",
      "AAACCGTGCGATAC-1         0.294971         0.347212         0.338838\n",
      "AAACCGTGTACAGC-1         0.308609         0.314663         0.330828\n",
      "Yc.shape (21065, 949)                   ENSG00000187608  ENSG00000175756  ENSG00000242485\n",
      "AAACATACTTCTAC-1         0.397874         0.381677         0.365012\n",
      "AAACATTGGTTCAG-1         0.338926         0.323209         0.313537\n",
      "AAACCGTGACAGTC-1         0.340106         0.333399         0.307633\n",
      "AAACCGTGCGATAC-1         0.331030         0.327250         0.310386\n",
      "AAACCGTGTACAGC-1         0.332803         0.323020         0.313494\n",
      "X.shape (21065, 949)                   ENSG00000187608  ENSG00000175756  ENSG00000242485\n",
      "AAACATACTTCTAC-1              0.0              0.0          0.00000\n",
      "AAACATTGGTTCAG-1              0.0              0.0          0.00000\n",
      "AAACCGTGACAGTC-1              0.0              0.0          0.00000\n",
      "AAACCGTGCGATAC-1              0.0              0.0          0.30103\n",
      "AAACCGTGTACAGC-1              0.0              0.0          0.00000\n"
     ]
    }
   ],
   "source": [
    "# READ DATA  (into cell_row, for consistancy with imputation.hd5)\n",
    "file_gene = sys.argv[1]\n",
    "file_cell = sys.argv[2]\n",
    "file_input = sys.argv[3]\n",
    "\n",
    "print(\"> READ DATA..\")  # todo: add support for h5 sparse\n",
    "Yg = scimpute.read_data_into_cell_row(file_gene, 'cell_row')\n",
    "Yc = scimpute.read_data_into_cell_row(file_cell, 'gene_row')\n",
    "X = scimpute.read_data_into_cell_row(file_input, 'gene_row')\n",
    "X = scimpute.df_transformation(X, transformation='log')\n",
    "\n",
    "# # TEST MODE OR NOT\n",
    "# m = 100\n",
    "# n = 10\n",
    "# while 1:\n",
    "#     print('in test mode')\n",
    "#     Yc = Yc.iloc[0:m, 0:n]\n",
    "#     Yg = Yg.iloc[0:m, 0:n]\n",
    "#     X = X.iloc[0:m, 0:n]\n",
    "\n",
    "# INPUT SUMMART\n",
    "print('Yg.shape', Yg.shape, Yg.iloc[0:5, 0:3])\n",
    "print('Yc.shape', Yc.shape, Yc.iloc[0:5, 0:3])\n",
    "print('X.shape', X.shape, X.iloc[0:5, 0:3])"
   ]
  },
  {
   "cell_type": "code",
   "execution_count": 4,
   "metadata": {},
   "outputs": [
    {
     "name": "stdout",
     "output_type": "stream",
     "text": [
      "calculating STD for Y and X\n"
     ]
    }
   ],
   "source": [
    "# STD of genes in Y and X\n",
    "print('calculating STD for Y and X')\n",
    "yg_std = Yg.std(axis=0)\n",
    "yc_std = Yc.std(axis=0)\n",
    "x_std = X.std(axis=0)\n",
    "\n"
   ]
  },
  {
   "cell_type": "code",
   "execution_count": 5,
   "metadata": {},
   "outputs": [
    {
     "data": {
      "text/html": [
       "<div>\n",
       "<style scoped>\n",
       "    .dataframe tbody tr th:only-of-type {\n",
       "        vertical-align: middle;\n",
       "    }\n",
       "\n",
       "    .dataframe tbody tr th {\n",
       "        vertical-align: top;\n",
       "    }\n",
       "\n",
       "    .dataframe thead th {\n",
       "        text-align: right;\n",
       "    }\n",
       "</style>\n",
       "<table border=\"1\" class=\"dataframe\">\n",
       "  <thead>\n",
       "    <tr style=\"text-align: right;\">\n",
       "      <th></th>\n",
       "      <th>X_std</th>\n",
       "      <th>Yg_std</th>\n",
       "      <th>Yc_std</th>\n",
       "      <th>Yg_X_ratio</th>\n",
       "      <th>Yc_X_ratio</th>\n",
       "      <th>Yg_Yc_ratio</th>\n",
       "    </tr>\n",
       "  </thead>\n",
       "  <tbody>\n",
       "    <tr>\n",
       "      <th>ENSG00000187608</th>\n",
       "      <td>0.093242</td>\n",
       "      <td>0.036759</td>\n",
       "      <td>0.033206</td>\n",
       "      <td>0.394235</td>\n",
       "      <td>0.356128</td>\n",
       "      <td>1.107004</td>\n",
       "    </tr>\n",
       "    <tr>\n",
       "      <th>ENSG00000175756</th>\n",
       "      <td>0.098098</td>\n",
       "      <td>0.026761</td>\n",
       "      <td>0.027688</td>\n",
       "      <td>0.272804</td>\n",
       "      <td>0.282249</td>\n",
       "      <td>0.966537</td>\n",
       "    </tr>\n",
       "    <tr>\n",
       "      <th>ENSG00000242485</th>\n",
       "      <td>0.079904</td>\n",
       "      <td>0.022844</td>\n",
       "      <td>0.024180</td>\n",
       "      <td>0.285897</td>\n",
       "      <td>0.302618</td>\n",
       "      <td>0.944746</td>\n",
       "    </tr>\n",
       "    <tr>\n",
       "      <th>ENSG00000160075</th>\n",
       "      <td>0.090762</td>\n",
       "      <td>0.022845</td>\n",
       "      <td>0.022493</td>\n",
       "      <td>0.251699</td>\n",
       "      <td>0.247822</td>\n",
       "      <td>1.015645</td>\n",
       "    </tr>\n",
       "    <tr>\n",
       "      <th>ENSG00000162585</th>\n",
       "      <td>0.079828</td>\n",
       "      <td>0.023033</td>\n",
       "      <td>0.023998</td>\n",
       "      <td>0.288535</td>\n",
       "      <td>0.300617</td>\n",
       "      <td>0.959807</td>\n",
       "    </tr>\n",
       "  </tbody>\n",
       "</table>\n",
       "</div>"
      ],
      "text/plain": [
       "                    X_std    Yg_std    Yc_std  Yg_X_ratio  Yc_X_ratio  \\\n",
       "ENSG00000187608  0.093242  0.036759  0.033206    0.394235    0.356128   \n",
       "ENSG00000175756  0.098098  0.026761  0.027688    0.272804    0.282249   \n",
       "ENSG00000242485  0.079904  0.022844  0.024180    0.285897    0.302618   \n",
       "ENSG00000160075  0.090762  0.022845  0.022493    0.251699    0.247822   \n",
       "ENSG00000162585  0.079828  0.023033  0.023998    0.288535    0.300617   \n",
       "\n",
       "                 Yg_Yc_ratio  \n",
       "ENSG00000187608     1.107004  \n",
       "ENSG00000175756     0.966537  \n",
       "ENSG00000242485     0.944746  \n",
       "ENSG00000160075     1.015645  \n",
       "ENSG00000162585     0.959807  "
      ]
     },
     "execution_count": 5,
     "metadata": {},
     "output_type": "execute_result"
    }
   ],
   "source": [
    "std_df = pd.DataFrame(data=list(zip(x_std, yg_std[x_std.index], yc_std[x_std.index],\n",
    "                                    yg_std/x_std, yc_std/x_std, yg_std/yc_std)),\n",
    "                      index=x_std.index,\n",
    "                      columns=['X_std', 'Yg_std', 'Yc_std', \n",
    "                               'Yg_X_ratio', 'Yc_X_ratio', 'Yg_Yc_ratio'])\n",
    "std_df.head()"
   ]
  },
  {
   "cell_type": "code",
   "execution_count": 6,
   "metadata": {},
   "outputs": [
    {
     "name": "stdout",
     "output_type": "stream",
     "text": [
      "yg_better boolean series:\n",
      " ENSG00000187608     True\n",
      "ENSG00000175756    False\n",
      "ENSG00000242485    False\n",
      "ENSG00000160075     True\n",
      "ENSG00000162585    False\n",
      "dtype: bool\n",
      "Y_better:\n",
      "                   ENSG00000187608  ENSG00000160075  ENSG00000116288\n",
      "AAACATACTTCTAC-1         0.421346         0.337219         0.395142\n",
      "AAACATTGGTTCAG-1         0.284391         0.357063         0.310614\n",
      "AAACCGTGACAGTC-1         0.298386         0.334476         0.333887\n",
      "AAACCGTGCGATAC-1         0.294971         0.304353         0.336937\n",
      "AAACCGTGTACAGC-1         0.308609         0.281712         0.345568\n"
     ]
    }
   ],
   "source": [
    "# std_ratio_yg_x = pd.DataFrame(data= yg_std.values / x_std.values,\n",
    "#                             index=X.columns, columns=['std_ratio'])\n",
    "# std_ratio_yc_x = pd.DataFrame(data= yc_std.values / x_std.values,\n",
    "#                             index=X.columns, columns=['std_ratio'])\n",
    "# std_ratio_yc_x.head()\n",
    "# std_ratio_yg_x.head()\n",
    "yg_better = std_df.loc[:, 'Yg_X_ratio'] > std_df.loc[:, 'Yc_X_ratio']\n",
    "print('yg_better boolean series:\\n', yg_better.head())\n",
    "\n",
    "list_of_frames = [Yg.transpose()[yg_better], \n",
    "                  Yc.transpose()[~yg_better]] # get the better one\n",
    "\n",
    "Y_better = pd.concat(list_of_frames).transpose()\n",
    "\n",
    "print('Y_better:\\n', Y_better.iloc[:5, :3])\n",
    "\n"
   ]
  },
  {
   "cell_type": "code",
   "execution_count": 7,
   "metadata": {},
   "outputs": [
    {
     "name": "stdout",
     "output_type": "stream",
     "text": [
      "yg_better boolean series:\n",
      " ENSG00000187608     True\n",
      "ENSG00000175756    False\n",
      "ENSG00000242485    False\n",
      "ENSG00000160075     True\n",
      "ENSG00000162585    False\n",
      "dtype: bool\n",
      "Yg:\n",
      "                   ENSG00000187608  ENSG00000175756  ENSG00000242485\n",
      "AAACATACTTCTAC-1         0.421346         0.399849         0.320015\n",
      "AAACATTGGTTCAG-1         0.284391         0.292878         0.312045\n",
      "AAACCGTGACAGTC-1         0.298386         0.335737         0.311562\n",
      "AAACCGTGCGATAC-1         0.294971         0.347212         0.338838\n",
      "AAACCGTGTACAGC-1         0.308609         0.314663         0.330828\n",
      "Y_better:\n",
      "                   ENSG00000187608  ENSG00000175756  ENSG00000242485\n",
      "AAACATACTTCTAC-1         0.421346         0.381677         0.365012\n",
      "AAACATTGGTTCAG-1         0.284391         0.323209         0.313537\n",
      "AAACCGTGACAGTC-1         0.298386         0.333399         0.307633\n",
      "AAACCGTGCGATAC-1         0.294971         0.327250         0.310386\n",
      "AAACCGTGTACAGC-1         0.308609         0.323020         0.313494\n",
      "savingimputation.combined.hd5 took 0.9 seconds\n"
     ]
    }
   ],
   "source": [
    "# GET THE BEST FROM GENE-FEATURE AND CELL-FEATURE IMPUTATION\n",
    "yg_better = std_df.loc[:, 'Yg_X_ratio'] > std_df.loc[:, 'Yc_X_ratio']\n",
    "print('yg_better boolean series:\\n', yg_better.head())\n",
    "\n",
    "Y_better_lst = [Yg.transpose()[yg_better], \n",
    "                  Yc.transpose()[~yg_better]] # list of frames\n",
    "Y_better = pd.concat(Y_better_lst)\n",
    "Y_better = Y_better.transpose()  # tr back\n",
    "Y_better = Y_better.loc[X.index, X.columns]  # get original order, just in case\n",
    "\n",
    "print('Yg:\\n', Yg.iloc[:5, :3])\n",
    "print('Y_better:\\n', Y_better.iloc[:5, :3])\n",
    "\n",
    "scimpute.save_hd5(Y_better, 'imputation.combined.hd5')"
   ]
  },
  {
   "cell_type": "code",
   "execution_count": 30,
   "metadata": {},
   "outputs": [
    {
     "name": "stdout",
     "output_type": "stream",
     "text": [
      "## sort by Yg_Yc_ratio (Yg better):\n",
      "                     X_std    Yg_std    Yc_std  Yg_X_ratio  Yc_X_ratio  \\\n",
      "ENSG00000254709  0.059913  0.144169  0.032066    2.406312    0.535207   \n",
      "ENSG00000143546  0.043846  0.069315  0.020863    1.580881    0.475835   \n",
      "ENSG00000100450  0.073357  0.089325  0.041691    1.217675    0.568333   \n",
      "ENSG00000137441  0.065166  0.078666  0.037987    1.207154    0.582924   \n",
      "ENSG00000169583  0.064094  0.060179  0.029602    0.938920    0.461845   \n",
      "ENSG00000126353  0.095021  0.037276  0.018528    0.392287    0.194989   \n",
      "ENSG00000168209  0.087319  0.031884  0.016364    0.365147    0.187400   \n",
      "ENSG00000158050  0.093549  0.040950  0.022240    0.437741    0.237739   \n",
      "ENSG00000124575  0.087398  0.030132  0.016414    0.344766    0.187812   \n",
      "ENSG00000132965  0.085826  0.033596  0.018418    0.391449    0.214600   \n",
      "\n",
      "                 Yg_Yc_ratio  \n",
      "ENSG00000254709     4.496043  \n",
      "ENSG00000143546     3.322330  \n",
      "ENSG00000100450     2.142538  \n",
      "ENSG00000137441     2.070861  \n",
      "ENSG00000169583     2.032977  \n",
      "ENSG00000126353     2.011843  \n",
      "ENSG00000168209     1.948495  \n",
      "ENSG00000158050     1.841271  \n",
      "ENSG00000124575     1.835696  \n",
      "ENSG00000132965     1.824089  \n",
      "## sort by Yg_Yc_ratio (Yc_better):\n",
      "                     X_std    Yg_std    Yc_std  Yg_X_ratio  Yc_X_ratio  \\\n",
      "ENSG00000251562  0.715925  0.047253  0.204997    0.066003    0.286338   \n",
      "ENSG00000140988  0.654140  0.073475  0.178317    0.112323    0.272598   \n",
      "ENSG00000166710  0.621114  0.070070  0.169565    0.112813    0.273001   \n",
      "ENSG00000142541  0.616995  0.079100  0.182525    0.128202    0.295828   \n",
      "ENSG00000147403  0.631176  0.068295  0.149685    0.108203    0.237152   \n",
      "ENSG00000198034  0.577614  0.081026  0.166751    0.140277    0.288690   \n",
      "ENSG00000164587  0.539329  0.075971  0.140833    0.140863    0.261127   \n",
      "ENSG00000167526  0.660273  0.083732  0.151260    0.126814    0.229087   \n",
      "ENSG00000108298  0.533096  0.079877  0.141819    0.149836    0.266030   \n",
      "ENSG00000149273  0.561730  0.088043  0.153359    0.156736    0.273013   \n",
      "\n",
      "                 Yg_Yc_ratio  \n",
      "ENSG00000251562     0.230506  \n",
      "ENSG00000140988     0.412045  \n",
      "ENSG00000166710     0.413234  \n",
      "ENSG00000142541     0.433367  \n",
      "ENSG00000147403     0.456261  \n",
      "ENSG00000198034     0.485909  \n",
      "ENSG00000164587     0.539442  \n",
      "ENSG00000167526     0.553563  \n",
      "ENSG00000108298     0.563230  \n",
      "ENSG00000149273     0.574098  \n"
     ]
    }
   ],
   "source": [
    "# SELECTING GENES DIFFERENT IN Yc and Yg\n",
    "num_genes = 10\n",
    "_ = std_df.sort_values(by='Yg_Yc_ratio', ascending=False).head(num_genes)\n",
    "print('## sort by Yg_Yc_ratio (Yg better):\\n', _)\n",
    "Yg_better_genes = _.index\n",
    "\n",
    "_ = std_df.sort_values(by='Yg_Yc_ratio', ascending=True).head(num_genes)\n",
    "print('## sort by Yg_Yc_ratio (Yc_better):\\n', _)\n",
    "Yc_better_genes = _.index\n",
    "\n"
   ]
  },
  {
   "cell_type": "code",
   "execution_count": null,
   "metadata": {},
   "outputs": [
    {
     "name": "stdout",
     "output_type": "stream",
     "text": [
      "ENSG00000254709\n",
      "ENSG00000143546\n",
      "ENSG00000100450\n",
      "ENSG00000137441\n",
      "ENSG00000169583\n"
     ]
    }
   ],
   "source": [
    "## plt genes\n",
    "gene_plt_dir = 'gene_feature_better_genes'\n",
    "\n",
    "for gene in Yg_better_genes:\n",
    "    print(gene)\n",
    "    scimpute.scatterplot2(X.loc[:, gene],  Yg.loc[:,gene],\n",
    "                          range='same',\n",
    "                          title = gene + ' (Gene-feature))',\n",
    "                          xlabel='Ground Truth, SD(Y)/SD(X):' + str(round(std_df.loc[gene,'Yg_X_ratio'], 3)),\n",
    "                          ylabel='Imputation (Gene-feature)',\n",
    "                          dir=gene_plt_dir)\n",
    "    scimpute.scatterplot2(X.loc[:, gene],  Yc.loc[:,gene],\n",
    "                          range='same',\n",
    "                          title = gene + ' (Cell-feature))',\n",
    "                          xlabel='Ground Truth, SD(Y)/SD(X):' + str(round(std_df.loc[gene,'Yc_X_ratio'], 3)),\n",
    "                          ylabel='Imputation (Cell-feature)',\n",
    "                          dir=gene_plt_dir)\n",
    "                "
   ]
  },
  {
   "cell_type": "code",
   "execution_count": null,
   "metadata": {},
   "outputs": [],
   "source": [
    "## plt genes\n",
    "gene_plt_dir = 'cell_feature_better_genes'\n",
    "\n",
    "for gene in Yc_better_genes:\n",
    "    print(gene)\n",
    "    scimpute.scatterplot2(X.loc[:, gene],  Yg.loc[:,gene],\n",
    "                          range='same',\n",
    "                          title = gene + ' (Gene-feature))',\n",
    "                          xlabel='Ground Truth, SD(Y)/SD(X):' + str(round(std_df.loc[gene,'Yg_X_ratio'], 3)),\n",
    "                          ylabel='Imputation (Gene-feature)',\n",
    "                          dir=gene_plt_dir)\n",
    "    scimpute.scatterplot2(X.loc[:, gene],  Yc.loc[:,gene],\n",
    "                          range='same',\n",
    "                          title = gene + ' (Cell-feature))',\n",
    "                          xlabel='Ground Truth, SD(Y)/SD(X):' + str(round(std_df.loc[gene,'Yc_X_ratio'], 3)),\n",
    "                          ylabel='Imputation (Cell-feature)',\n",
    "                          dir=gene_plt_dir)\n",
    "                "
   ]
  },
  {
   "cell_type": "code",
   "execution_count": null,
   "metadata": {},
   "outputs": [],
   "source": []
  }
 ],
 "metadata": {
  "kernelspec": {
   "display_name": "vir",
   "language": "python",
   "name": "vir"
  },
  "language_info": {
   "codemirror_mode": {
    "name": "ipython",
    "version": 3
   },
   "file_extension": ".py",
   "mimetype": "text/x-python",
   "name": "python",
   "nbconvert_exporter": "python",
   "pygments_lexer": "ipython3",
   "version": "3.5.2"
  }
 },
 "nbformat": 4,
 "nbformat_minor": 1
}
